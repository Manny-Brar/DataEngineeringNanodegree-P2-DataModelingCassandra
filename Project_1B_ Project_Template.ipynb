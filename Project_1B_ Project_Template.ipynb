{
 "cells": [
  {
   "cell_type": "markdown",
   "metadata": {
    "editable": true
   },
   "source": [
    "# Data Modeling with Apache Cassandra\n",
    "#### Udacity Data Engineering Nanodegree | Project 2 | Data Modeling with Cassandra | Manny Brar\n"
   ]
  },
  {
   "cell_type": "code",
   "execution_count": null,
   "metadata": {
    "editable": true
   },
   "outputs": [],
   "source": []
  },
  {
   "cell_type": "markdown",
   "metadata": {
    "editable": true
   },
   "source": [
    "#### Import Python packages "
   ]
  },
  {
   "cell_type": "code",
   "execution_count": 33,
   "metadata": {
    "editable": true
   },
   "outputs": [],
   "source": [
    "# Import Python packages \n",
    "import pandas as pd\n",
    "import cassandra\n",
    "import re\n",
    "import os\n",
    "import glob\n",
    "import numpy as np\n",
    "import json\n",
    "import csv"
   ]
  },
  {
   "cell_type": "markdown",
   "metadata": {
    "editable": true
   },
   "source": [
    "#### Creating list of filepaths to process original event csv data files"
   ]
  },
  {
   "cell_type": "code",
   "execution_count": 34,
   "metadata": {
    "editable": true
   },
   "outputs": [
    {
     "name": "stdout",
     "output_type": "stream",
     "text": [
      "/home/workspace\n"
     ]
    }
   ],
   "source": [
    "# checking your current working directory\n",
    "print(os.getcwd())\n",
    "\n",
    "# Get your current folder and subfolder event data\n",
    "filepath = os.getcwd() + '/event_data'\n",
    "\n",
    "# Create a for loop to create a list of files and collect each filepath\n",
    "for root, dirs, files in os.walk(filepath):\n",
    "    \n",
    "# join the file path and roots with the subdirectories using glob\n",
    "    file_path_list = glob.glob(os.path.join(root,'*'))\n",
    "    #print(file_path_list)"
   ]
  },
  {
   "cell_type": "markdown",
   "metadata": {
    "editable": true
   },
   "source": [
    "#### Processing the files to create the data file csv that will be used for Apache Casssandra tables"
   ]
  },
  {
   "cell_type": "code",
   "execution_count": 35,
   "metadata": {
    "editable": true
   },
   "outputs": [],
   "source": [
    "# initiating an empty list of rows that will be generated from each file\n",
    "full_data_rows_list = [] \n",
    "    \n",
    "# for every filepath in the file path list \n",
    "for f in file_path_list:\n",
    "\n",
    "# reading csv file \n",
    "    with open(f, 'r', encoding = 'utf8', newline='') as csvfile: \n",
    "        # creating a csv reader object \n",
    "        csvreader = csv.reader(csvfile) \n",
    "        next(csvreader)\n",
    "        \n",
    " # extracting each data row one by one and append it        \n",
    "        for line in csvreader:\n",
    "            #print(line)\n",
    "            full_data_rows_list.append(line) \n",
    "            \n",
    "\n",
    "# creating a smaller event data csv file called event_datafile_full csv that will be used to insert data into the \\\n",
    "# Apache Cassandra tables\n",
    "csv.register_dialect('myDialect', quoting=csv.QUOTE_ALL, skipinitialspace=True)\n",
    "\n",
    "with open('event_datafile_new.csv', 'w', encoding = 'utf8', newline='') as f:\n",
    "    writer = csv.writer(f, dialect='myDialect')\n",
    "    writer.writerow(['artist','firstName','gender','itemInSession','lastName','length',\\\n",
    "                'level','location','sessionId','song','userId'])\n",
    "    for row in full_data_rows_list:\n",
    "        if (row[0] == ''):\n",
    "            continue\n",
    "        writer.writerow((row[0], row[2], row[3], row[4], row[5], row[6], row[7], row[8], row[12], row[13], row[16]))\n"
   ]
  },
  {
   "cell_type": "code",
   "execution_count": 36,
   "metadata": {
    "editable": true
   },
   "outputs": [
    {
     "name": "stdout",
     "output_type": "stream",
     "text": [
      "6821\n"
     ]
    }
   ],
   "source": [
    "# check the number of rows in your csv file\n",
    "with open('event_datafile_new.csv', 'r', encoding = 'utf8') as f:\n",
    "    print(sum(1 for line in f))"
   ]
  },
  {
   "cell_type": "markdown",
   "metadata": {
    "editable": true
   },
   "source": [
    "#### Creating a Cluster"
   ]
  },
  {
   "cell_type": "code",
   "execution_count": 37,
   "metadata": {
    "editable": true
   },
   "outputs": [],
   "source": [
    "\n",
    "from cassandra.cluster import Cluster\n",
    "try:\n",
    "    cluster = Cluster(['127.0.01'])\n",
    "    # For connection to locally installed Apache Cassandra\n",
    "    session = cluster.connect()\n",
    "    # To establish connection and begin executing queries, need a session\n",
    "except Exception as e:\n",
    "    print(e)\n"
   ]
  },
  {
   "cell_type": "markdown",
   "metadata": {
    "editable": true
   },
   "source": [
    "#### Create Keyspace"
   ]
  },
  {
   "cell_type": "code",
   "execution_count": 38,
   "metadata": {
    "editable": true
   },
   "outputs": [],
   "source": [
    "try:\n",
    "    session.execute(\"\"\"\n",
    "    CREATE KEYSPACE IF NOT EXISTS sparkify\n",
    "    WITH REPLICATION=\n",
    "    {'class': 'SimpleStrategy', 'replication_factor' : 1}\"\"\")\n",
    "    \n",
    "except Exception as e:\n",
    "    print(e)\n"
   ]
  },
  {
   "cell_type": "markdown",
   "metadata": {
    "editable": true
   },
   "source": [
    "#### Set Keyspace"
   ]
  },
  {
   "cell_type": "code",
   "execution_count": 39,
   "metadata": {
    "editable": true
   },
   "outputs": [],
   "source": [
    "try:\n",
    "    session.set_keyspace('sparkify')\n",
    "except Exception as e:\n",
    "    print(e)\n",
    "\n"
   ]
  },
  {
   "cell_type": "markdown",
   "metadata": {
    "editable": true
   },
   "source": [
    "## Create queries to ask the following three questions of the data\n",
    "\n",
    "### 1. Give me the artist, song title and song's length in the music app history that was heard during  sessionId = 338, and itemInSession  = 4\n",
    "\n",
    "\n",
    "### 2. Give me only the following: name of artist, song (sorted by itemInSession) and user (first and last name) for userid = 10, sessionid = 182\n",
    "    \n",
    "\n",
    "### 3. Give me every user name (first and last) in my music app history who listened to the song 'All Hands Against His Own'\n",
    "\n",
    "\n"
   ]
  },
  {
   "cell_type": "markdown",
   "metadata": {
    "editable": true
   },
   "source": [
    "# Q1"
   ]
  },
  {
   "cell_type": "code",
   "execution_count": 40,
   "metadata": {
    "editable": true
   },
   "outputs": [],
   "source": [
    "# CREATE TABLES\n",
    "query1=\"CREATE TABLE IF NOT EXISTS songplay_\"\n",
    "query1= query1 + \"(sessionId int, itemInSession int, artist_name text, song text, length decimal,  PRIMARY KEY (sessionId, itemInSession))\"\n",
    "try:\n",
    "    session.execute(query1)\n",
    "except Exception as e:\n",
    "    print(e)\n",
    "    \"\"\" ^^^^ Here we create a new table if it does not currently exist and we assign it as songplay_, \n",
    "    we then specify our columns and data types for each column as well as setting our \n",
    "    PRIMARY KEY and Partition key ^^^\"\"\""
   ]
  },
  {
   "cell_type": "code",
   "execution_count": 41,
   "metadata": {
    "editable": true
   },
   "outputs": [],
   "source": [
    "file = 'event_datafile_new.csv'\n",
    "\n",
    "with open(file, encoding = 'utf8') as f:\n",
    "    csvreader = csv.reader(f)\n",
    "    next(csvreader) # skip header\n",
    "    for line in csvreader:\n",
    "        query1 = \"INSERT INTO songplay_ (sessionId, itemInSession, artist_name, song, length)\"\n",
    "        query1 = query1 + \"VALUES (%s, %s, %s, %s, %s)\"\n",
    "        session.execute(query1, (int(line[8]), int(line[3]), line[0], line[9], float(line[5])))\n",
    "        \n",
    "    \"\"\" ^^^^ Next we read in the CSV file and Insert the data into the songplay_ table we created ^^^\"\"\""
   ]
  },
  {
   "cell_type": "code",
   "execution_count": 42,
   "metadata": {
    "editable": true
   },
   "outputs": [
    {
     "name": "stdout",
     "output_type": "stream",
     "text": [
      "Artist Name | Length | Song Title\n",
      "Faithless | 495.3073 | Music Matters (Mark Knight Dub)\n"
     ]
    }
   ],
   "source": [
    "query1=\"SELECT artist_name, length, song FROM songplay_ WHERE sessionId = 338 AND itemInSession = 4\"\n",
    "try:\n",
    "    rows=session.execute(query1)\n",
    "except Exception as e:\n",
    "    print(e)\n",
    "\n",
    "    \n",
    "print('Artist Name','|', 'Length', '|', 'Song Title')\n",
    "for row in rows:\n",
    "    print(row.artist_name,'|', row.length,'|', row.song)\n",
    "\n",
    "    \"\"\" ^^^^ Here we execute our SELECT statement to answer question 1 and we print the results below ^^^\"\"\"                   "
   ]
  },
  {
   "cell_type": "markdown",
   "metadata": {
    "editable": true
   },
   "source": [
    "## Conclusion Q1\n",
    "\n",
    "### Q1. Give me the artist, song title and song's length in the music app history that was heard during  sessionId = 338, and itemInSession  = 4\n",
    "\n",
    "\n",
    "For the purposes of this project we are modeling our data using a NoSQL schema utilizing Apache Cassandra and to accomplish this we first need to consider the questions we are asking our data. We must build our tables in accordance with the queries we intend to run in order to answer our questions. The intention here is to return the name of the artist, song title, and length of the song, in relation with the provided sesionId and itemInSession values.\n",
    "\n",
    "Next we construct our SELECT statement and it should look something like this:\n",
    "SELECT artist name, song title, song length (<<< Here we identify the values we would like returned)\n",
    "\n",
    "FROM songplay_ (<<< Here we specify from which table we are requesting the results from)\n",
    "\n",
    "WHERE sessionId = value_X AND itemInSession = value_Y (<<< Next we specify the parameters of the values returned)\n",
    "\n",
    "Now, we can create our table using 'CREATE TABLE' and 'IF NOT EXISTS' to make sure that we only create the table if it currenlty does not exist. Next we need to select the the PRIMARY KEY. The PRIMARY KEY is required to be a unique identifier for each row in the table and because our query is based on sessionId and itemInSession, we will need to use both together as a unique indentifier.\n"
   ]
  },
  {
   "cell_type": "markdown",
   "metadata": {
    "editable": true
   },
   "source": [
    "# Q2"
   ]
  },
  {
   "cell_type": "code",
   "execution_count": 43,
   "metadata": {
    "editable": true
   },
   "outputs": [
    {
     "name": "stdout",
     "output_type": "stream",
     "text": [
      "Artist Name | Song Title | User First Name | User Last Name\n",
      "Down To The Bone | Keep On Keepin' On | Sylvie | Cruz\n",
      "Three Drives | Greece 2000 | Sylvie | Cruz\n",
      "Sebastien Tellier | Kilometer | Sylvie | Cruz\n",
      "Lonnie Gordon | Catch You Baby (Steve Pitron & Max Sanna Radio Edit) | Sylvie | Cruz\n"
     ]
    }
   ],
   "source": [
    "query2 = \"CREATE TABLE IF NOT EXISTS songplay_user\"\n",
    "query2 = query2 + \"(userId int, sessionId int, itemInSession int, artist_name text, song text, first_name text, last_name text, PRIMARY KEY ((userId, sessionId), itemInSession))\"\n",
    "try:\n",
    "    session.execute(query2)\n",
    "except Exception as e:\n",
    "    print(e)\n",
    "    \n",
    "    \"\"\" ^^^^ Here we create a new table if it does not currently exist and we assign it as songplay_user, \n",
    "    we then specify our columns and data types for each column as well as setting our \n",
    "    PRIMARY KEY and Partition key ^^^\"\"\"\n",
    "    \n",
    "    \n",
    "file = 'event_datafile_new.csv'\n",
    "\n",
    "with open(file, encoding = 'utf8') as f:\n",
    "    csvreader2 = csv.reader(f)\n",
    "    next(csvreader2) # skip header\n",
    "    for line in csvreader2:\n",
    "        query2 = \"INSERT INTO songplay_user (userId, sessionId, itemInSession, artist_name, song, first_name, last_name)\"\n",
    "        query2 = query2 + \" VALUES (%s, %s, %s, %s, %s, %s, %s)\"\n",
    "        session.execute(query2, (int(line[10]), int(line[8]), int(line[3]), line[0], line[9], line[1], line[4]))\n",
    "    \n",
    "    \"\"\" ^^^^ Next we read in the CSV file and Insert the data into the songplay_user table we created ^^^\"\"\"\n",
    "        \n",
    "        \n",
    "s2 = \"SELECT artist_name, song, first_name, last_name FROM songplay_user WHERE userId = 10 AND sessionId = 182\"\n",
    "\n",
    "try:\n",
    "    rows = session.execute(s2)\n",
    "except Exception as e:\n",
    "    print(e)\n",
    "print('Artist Name', '|', 'Song Title', '|', 'User First Name', '|', 'User Last Name')\n",
    "for row in rows:\n",
    "    print (row.artist_name,'|', row.song,'|', row.first_name,'|', row.last_name)\n",
    "    \n",
    "    \"\"\" ^^^^ Here we execute our SELECT statement to answer question 2 and we print the results below ^^^\"\"\"                   "
   ]
  },
  {
   "cell_type": "markdown",
   "metadata": {
    "editable": true
   },
   "source": [
    "## Conclusion Q2\n",
    "\n",
    "### 2. Give me only the following: name of artist, song (sorted by itemInSession) and user (first and last name) for userid = 10, sessionid = 182\n",
    "\n",
    "Again we must build our tables in accordance with the queries we intend to run in order to answer our questions. \n",
    "The intention here is to return the name of the artist, song title (sorted by itemInSession), user first name and user last name in relation with the provided userId and sesionId values.\n",
    "\n",
    "Next we construct our SELECT statement and it should look something like this:\n",
    "SELECT artist name, song title, user first name, user last name (<<< Here we identify the values we would like returned)\n",
    "\n",
    "FROM songplay_user (<<< Here we specify from which table we are requesting the results from)\n",
    "\n",
    "WHERE userId = value_X AND sessionId = value_Y (<<< Next we specify the parameters of the values returned)\n",
    "\n",
    "Now, we can create our table using 'CREATE TABLE' and 'IF NOT EXISTS' to make sure that we only create the table if it currenlty does not exist. Next we need to select the the PRIMARY KEY. The PRIMARY KEY is required to be a unique identifier for each row in the table and because our query is based on userId and sessionId, we will need to use both together as our partition key and since we will need to sort by itemInSession, we add that as our clustering column."
   ]
  },
  {
   "cell_type": "markdown",
   "metadata": {
    "editable": true
   },
   "source": [
    "# Q3"
   ]
  },
  {
   "cell_type": "code",
   "execution_count": 44,
   "metadata": {
    "editable": true
   },
   "outputs": [
    {
     "name": "stdout",
     "output_type": "stream",
     "text": [
      "First Name | Last Name\n",
      "Jacqueline | Lynch\n",
      "Tegan | Levine\n",
      "Sara | Johnson\n"
     ]
    }
   ],
   "source": [
    "query3 = \"CREATE TABLE IF NOT EXISTS user_song_hist\"\n",
    "query3 = query3 + \"(song text, user_id int, first_name text, last_name text, PRIMARY KEY(song, user_id))\"\n",
    "try:\n",
    "    session.execute(query3)\n",
    "except Exception as e:\n",
    "    print(e)\n",
    "\n",
    "    \"\"\" ^^^^ Here we create a new table if it does not currently exist and we assign it as user_song_hist, \n",
    "    we then specify our columns and data types for each column as well as setting our \n",
    "    PRIMARY KEY and Partition key ^^^\"\"\"\n",
    "    \n",
    "    \n",
    "file = 'event_datafile_new.csv'\n",
    "\n",
    "with open(file, encoding = 'utf8') as f:\n",
    "    csvreader3 = csv.reader(f)\n",
    "    next(csvreader3) # skip header\n",
    "    for line in csvreader3:\n",
    "        query3 = \"INSERT INTO user_song_hist (song, user_id, first_name, last_name)\"\n",
    "        query3 = query3 + \" VALUES (%s, %s, %s, %s)\"\n",
    "        session.execute(query3, (line[9], int(line[10]), line[1], line[4]))\n",
    "\n",
    "    \"\"\" ^^^^ Next we read in the CSV file and Insert the data into the user_song_hist table we created ^^^\"\"\"\n",
    "\n",
    "        \n",
    "        \n",
    "        \n",
    "s3 = \"\"\"SELECT first_name, last_name\n",
    "           FROM user_song_hist\n",
    "           WHERE song = 'All Hands Against His Own'\"\"\"\n",
    "\n",
    "try:\n",
    "    rows = session.execute(s3)\n",
    "except Exception as e:\n",
    "    print(e)\n",
    "print('First Name', '|', 'Last Name')\n",
    "for row in rows:\n",
    "    print (row.first_name, '|', row.last_name)\n",
    "    \n",
    "    \n",
    "    \"\"\" ^^^^ Here we execute our SELECT statement to answer question 3 and we print the results below ^^^\"\"\"                   "
   ]
  },
  {
   "cell_type": "markdown",
   "metadata": {
    "editable": true
   },
   "source": [
    "## Conclusion Q3\n",
    "\n",
    "### 3. Give me every user name (first and last) in my music app history who listened to the song 'All Hands Against His Own'\n",
    "\n",
    "The intention here is to return the first and last name of the users who listened to a certain song.\n",
    "\n",
    "To start we construct our SELECT statement and it should look something like this:\n",
    "SELECT user first name, user last name (<<< Here we identify the values we would like returned)\n",
    "\n",
    "FROM user_song_hist (<<< Here we specify from which table we are requesting the results from)\n",
    "\n",
    "WHERE song = value_X (<<< Next we specify the parameters of the values returned)\n",
    "\n",
    "Now, we can create our table using 'CREATE TABLE' and 'IF NOT EXISTS' to make sure that we only create the table if it currenlty does not exist. Next we need to select the the PRIMARY KEY. The PRIMARY KEY is required to be a unique identifier for each row in the table and because our query is based on users that listened to a certain song, we will need to use both together as our PRIMARY KEY."
   ]
  },
  {
   "cell_type": "markdown",
   "metadata": {
    "editable": true
   },
   "source": [
    "### Drop the tables before closing out the sessions"
   ]
  },
  {
   "cell_type": "code",
   "execution_count": 45,
   "metadata": {
    "editable": true
   },
   "outputs": [
    {
     "data": {
      "text/plain": [
       "<cassandra.cluster.ResultSet at 0x7fabcc16d518>"
      ]
     },
     "execution_count": 45,
     "metadata": {},
     "output_type": "execute_result"
    }
   ],
   "source": [
    "session.execute(\"\"\"DROP TABLE songplay_\"\"\")\n",
    "\n",
    "session.execute(\"\"\"DROP TABLE songplay_user\"\"\")\n",
    "\n",
    "session.execute(\"\"\"DROP TABLE user_song_hist\"\"\")\n",
    "\n",
    "# Here we can drop all our created tables"
   ]
  },
  {
   "cell_type": "markdown",
   "metadata": {
    "editable": true
   },
   "source": [
    "### Close the session and cluster connection¶"
   ]
  },
  {
   "cell_type": "code",
   "execution_count": 46,
   "metadata": {
    "editable": true
   },
   "outputs": [],
   "source": [
    "session.shutdown()\n",
    "cluster.shutdown()"
   ]
  },
  {
   "cell_type": "code",
   "execution_count": null,
   "metadata": {
    "editable": true
   },
   "outputs": [],
   "source": []
  }
 ],
 "metadata": {
  "kernelspec": {
   "display_name": "Python 3",
   "language": "python",
   "name": "python3"
  },
  "language_info": {
   "codemirror_mode": {
    "name": "ipython",
    "version": 3
   },
   "file_extension": ".py",
   "mimetype": "text/x-python",
   "name": "python",
   "nbconvert_exporter": "python",
   "pygments_lexer": "ipython3",
   "version": "3.6.3"
  }
 },
 "nbformat": 4,
 "nbformat_minor": 4
}
